{
 "cells": [
  {
   "cell_type": "code",
   "execution_count": 27,
   "id": "8439e31a-0e85-4aa6-8f60-6a3c6615bdea",
   "metadata": {
    "execution": {
     "iopub.execute_input": "2023-05-22T14:29:18.682949Z",
     "iopub.status.busy": "2023-05-22T14:29:18.682451Z",
     "iopub.status.idle": "2023-05-22T14:29:18.693034Z",
     "shell.execute_reply": "2023-05-22T14:29:18.692369Z",
     "shell.execute_reply.started": "2023-05-22T14:29:18.682917Z"
    },
    "tags": []
   },
   "outputs": [],
   "source": [
    "from pyspark.sql import DataFrame\n",
    "from pyspark.sql import SparkSession\n",
    "import pyspark.sql.functions as F\n",
    "\n",
    "spark = SparkSession.builder.config(\"spark.jars\", \"target/flux-capacitor-1.jar\").getOrCreate()\n",
    "flux_stateful_function = spark._sc._jvm.cccs.fluxcapacitor.FluxCapacitor.invoke\n",
    "bloom_capacity = 200000\n",
    "\n",
    "def print_df(df):\n",
    "    df = df.drop(\"host_id\")\n",
    "    df = df.withColumn(\"human_readable\", F.map_keys(F.map_filter(F.col(\"sigma\").rule1, lambda _,v: v)))\n",
    "    columns = df.columns\n",
    "    columns.remove(\"human_readable\")\n",
    "    columns.insert(len(columns) - 1, \"human_readable\")\n",
    "    df = df.select(columns)\n",
    "    df.show(truncate=False)"
   ]
  },
  {
   "cell_type": "code",
   "execution_count": null,
   "id": "6814e5bf-9814-4296-87b1-dc4ffd197d51",
   "metadata": {
    "tags": []
   },
   "outputs": [],
   "source": []
  },
  {
   "cell_type": "code",
   "execution_count": 28,
   "id": "db02603d-c158-4cf0-a5c3-0a1bc8d76ec7",
   "metadata": {
    "execution": {
     "iopub.execute_input": "2023-05-22T14:29:19.242417Z",
     "iopub.status.busy": "2023-05-22T14:29:19.241647Z",
     "iopub.status.idle": "2023-05-22T14:29:19.546478Z",
     "shell.execute_reply": "2023-05-22T14:29:19.545409Z",
     "shell.execute_reply.started": "2023-05-22T14:29:19.242374Z"
    },
    "tags": []
   },
   "outputs": [
    {
     "name": "stdout",
     "output_type": "stream",
     "text": [
      "+-------------------+--------------+--------------------------------------------------+\n",
      "|timestamp          |human_readable|sigma                                             |\n",
      "+-------------------+--------------+--------------------------------------------------+\n",
      "|2022-12-30 00:00:01|[f2]          |{rule1 -> {f2 -> true}}                           |\n",
      "|2022-12-30 00:00:02|[]            |{rule1 -> {f1 -> false, f2 -> false, f3 -> false}}|\n",
      "|2022-12-30 00:00:03|[f3]          |{rule1 -> {f3 -> true}}                           |\n",
      "|2022-12-30 00:00:04|[]            |{rule1 -> {f1 -> false, f2 -> false, f3 -> false}}|\n",
      "|2022-12-30 00:00:05|[f1]          |{rule1 -> {f1 -> true}}                           |\n",
      "|2022-12-30 00:00:06|[]            |{rule1 -> {f1 -> false, f2 -> false, f3 -> false}}|\n",
      "+-------------------+--------------+--------------------------------------------------+\n",
      "\n",
      "+-------------------+--------------+--------------------------------------------------+\n",
      "|timestamp          |human_readable|sigma                                             |\n",
      "+-------------------+--------------+--------------------------------------------------+\n",
      "|2022-12-30 00:00:01|[f2]          |{rule1 -> {f1 -> false, f2 -> true, f3 -> false}} |\n",
      "|2022-12-30 00:00:02|[]            |{rule1 -> {f1 -> false, f2 -> false, f3 -> false}}|\n",
      "|2022-12-30 00:00:03|[f2, f3]      |{rule1 -> {f1 -> false, f2 -> true, f3 -> true}}  |\n",
      "|2022-12-30 00:00:04|[]            |{rule1 -> {f1 -> false, f2 -> false, f3 -> false}}|\n",
      "|2022-12-30 00:00:05|[f1, f2, f3]  |{rule1 -> {f1 -> true, f2 -> true, f3 -> true}}   |\n",
      "|2022-12-30 00:00:06|[]            |{rule1 -> {f1 -> false, f2 -> false, f3 -> false}}|\n",
      "+-------------------+--------------+--------------------------------------------------+\n",
      "\n"
     ]
    }
   ],
   "source": [
    "spec = \"\"\"\n",
    "    rules:\n",
    "        - rulename: rule1\n",
    "          action: temporal\n",
    "          tags:\n",
    "            - name: f1\n",
    "            - name: f2\n",
    "            - name: f3\n",
    "    \"\"\"\n",
    "\n",
    "df_input = spark.sql(\"\"\"\n",
    "    select\n",
    "        *\n",
    "    from\n",
    "    values\n",
    "    (TIMESTAMP '2022-12-30 00:00:01', 'host1', map('rule1', map('f2', true))),\n",
    "    (TIMESTAMP '2022-12-30 00:00:02', 'host1', map('rule1', map('f1', false, 'f2', false, 'f3', false))),\n",
    "    (TIMESTAMP '2022-12-30 00:00:03', 'host1', map('rule1', map('f3', true))),\n",
    "    (TIMESTAMP '2022-12-30 00:00:04', 'host1', map('rule1', map('f1', false, 'f2', false, 'f3', false))),\n",
    "    (TIMESTAMP '2022-12-30 00:00:05', 'host1', map('rule1', map('f1', true))),\n",
    "    (TIMESTAMP '2022-12-30 00:00:06', 'host1', map('rule1', map('f1', false, 'f2', false, 'f3', false)))\n",
    "    t(timestamp, host_id, sigma)\n",
    "    \"\"\")\n",
    "\n",
    "print_df(df_input)\n",
    "jdf = flux_stateful_function(df_input._jdf, \"host_id\", bloom_capacity, spec, True)\n",
    "df_output = DataFrame(jdf, spark)\n",
    "print_df(df_output)"
   ]
  },
  {
   "cell_type": "code",
   "execution_count": 29,
   "id": "cfacddd1-2485-49cf-bcfa-68d9b084e93f",
   "metadata": {
    "execution": {
     "iopub.execute_input": "2023-05-22T14:29:19.549132Z",
     "iopub.status.busy": "2023-05-22T14:29:19.548226Z",
     "iopub.status.idle": "2023-05-22T14:29:19.849705Z",
     "shell.execute_reply": "2023-05-22T14:29:19.848642Z",
     "shell.execute_reply.started": "2023-05-22T14:29:19.549094Z"
    },
    "tags": []
   },
   "outputs": [
    {
     "name": "stdout",
     "output_type": "stream",
     "text": [
      "+-------------------+--------------+--------------------------------------------------+\n",
      "|timestamp          |human_readable|sigma                                             |\n",
      "+-------------------+--------------+--------------------------------------------------+\n",
      "|2022-12-30 00:00:01|[f2]          |{rule1 -> {f2 -> true}}                           |\n",
      "|2022-12-30 00:00:02|[]            |{rule1 -> {f1 -> false, f2 -> false, f3 -> false}}|\n",
      "|2022-12-30 00:00:03|[f3]          |{rule1 -> {f3 -> true}}                           |\n",
      "|2022-12-30 00:00:04|[]            |{rule1 -> {f1 -> false, f2 -> false, f3 -> false}}|\n",
      "|2022-12-30 00:00:05|[f1]          |{rule1 -> {f1 -> true}}                           |\n",
      "|2022-12-30 00:00:06|[]            |{rule1 -> {f1 -> false, f2 -> false, f3 -> false}}|\n",
      "|2022-12-30 00:00:07|[f2]          |{rule1 -> {f2 -> true}}                           |\n",
      "|2022-12-30 00:00:08|[]            |{rule1 -> {f1 -> false, f2 -> false, f3 -> false}}|\n",
      "|2022-12-30 00:00:09|[f1]          |{rule1 -> {f1 -> true}}                           |\n",
      "|2022-12-30 00:00:10|[]            |{rule1 -> {f1 -> false, f2 -> false, f3 -> false}}|\n",
      "|2022-12-30 00:00:11|[f3]          |{rule1 -> {f3 -> true}}                           |\n",
      "|2022-12-30 00:00:12|[]            |{rule1 -> {f1 -> false, f2 -> false, f3 -> false}}|\n",
      "+-------------------+--------------+--------------------------------------------------+\n",
      "\n",
      "+-------------------+--------------+--------------------------------------------------+\n",
      "|timestamp          |human_readable|sigma                                             |\n",
      "+-------------------+--------------+--------------------------------------------------+\n",
      "|2022-12-30 00:00:01|[f2]          |{rule1 -> {f1 -> false, f2 -> true, f3 -> false}} |\n",
      "|2022-12-30 00:00:02|[]            |{rule1 -> {f1 -> false, f2 -> false, f3 -> false}}|\n",
      "|2022-12-30 00:00:03|[f3]          |{rule1 -> {f1 -> false, f2 -> false, f3 -> true}} |\n",
      "|2022-12-30 00:00:04|[]            |{rule1 -> {f1 -> false, f2 -> false, f3 -> false}}|\n",
      "|2022-12-30 00:00:05|[f1]          |{rule1 -> {f1 -> true, f2 -> false, f3 -> false}} |\n",
      "|2022-12-30 00:00:06|[]            |{rule1 -> {f1 -> false, f2 -> false, f3 -> false}}|\n",
      "|2022-12-30 00:00:07|[f1, f2]      |{rule1 -> {f1 -> true, f2 -> true, f3 -> false}}  |\n",
      "|2022-12-30 00:00:08|[]            |{rule1 -> {f1 -> false, f2 -> false, f3 -> false}}|\n",
      "|2022-12-30 00:00:09|[f1, f2]      |{rule1 -> {f1 -> true, f2 -> true, f3 -> false}}  |\n",
      "|2022-12-30 00:00:10|[]            |{rule1 -> {f1 -> false, f2 -> false, f3 -> false}}|\n",
      "|2022-12-30 00:00:11|[f1, f2, f3]  |{rule1 -> {f1 -> true, f2 -> true, f3 -> true}}   |\n",
      "|2022-12-30 00:00:12|[]            |{rule1 -> {f1 -> false, f2 -> false, f3 -> false}}|\n",
      "+-------------------+--------------+--------------------------------------------------+\n",
      "\n"
     ]
    }
   ],
   "source": [
    "spec = \"\"\"\n",
    "    rules:\n",
    "        - rulename: rule1\n",
    "          action: temporal\n",
    "          ordered: true\n",
    "          tags:\n",
    "            - name: f1\n",
    "            - name: f2\n",
    "            - name: f3\n",
    "    \"\"\"\n",
    "\n",
    "df_input = spark.sql(\"\"\"\n",
    "    select\n",
    "        *\n",
    "    from\n",
    "    values\n",
    "    (TIMESTAMP '2022-12-30 00:00:01', 'host1', map('rule1', map('f2', true))),\n",
    "    (TIMESTAMP '2022-12-30 00:00:02', 'host1', map('rule1', map('f1', false, 'f2', false, 'f3', false))),\n",
    "    (TIMESTAMP '2022-12-30 00:00:03', 'host1', map('rule1', map('f3', true))),\n",
    "    (TIMESTAMP '2022-12-30 00:00:04', 'host1', map('rule1', map('f1', false, 'f2', false, 'f3', false))),\n",
    "    (TIMESTAMP '2022-12-30 00:00:05', 'host1', map('rule1', map('f1', true))),\n",
    "    (TIMESTAMP '2022-12-30 00:00:06', 'host1', map('rule1', map('f1', false, 'f2', false, 'f3', false))),\n",
    "    (TIMESTAMP '2022-12-30 00:00:07', 'host1', map('rule1', map('f2', true))),\n",
    "    (TIMESTAMP '2022-12-30 00:00:08', 'host1', map('rule1', map('f1', false, 'f2', false, 'f3', false))),\n",
    "    (TIMESTAMP '2022-12-30 00:00:09', 'host1', map('rule1', map('f1', true))),\n",
    "    (TIMESTAMP '2022-12-30 00:00:10', 'host1', map('rule1', map('f1', false, 'f2', false, 'f3', false))),\n",
    "    (TIMESTAMP '2022-12-30 00:00:11', 'host1', map('rule1', map('f3', true))),\n",
    "    (TIMESTAMP '2022-12-30 00:00:12', 'host1', map('rule1', map('f1', false, 'f2', false, 'f3', false)))\n",
    "    t(timestamp, host_id, sigma)\n",
    "    \"\"\")\n",
    "print_df(df_input)\n",
    "jdf = flux_stateful_function(df_input._jdf, \"host_id\", bloom_capacity, spec, True)\n",
    "df_output = DataFrame(jdf, spark)\n",
    "print_df(df_output)"
   ]
  },
  {
   "cell_type": "code",
   "execution_count": 30,
   "id": "fdd22ac2-ec1f-466e-a2ed-01a4983c48f2",
   "metadata": {
    "execution": {
     "iopub.execute_input": "2023-05-22T14:29:19.851535Z",
     "iopub.status.busy": "2023-05-22T14:29:19.851294Z",
     "iopub.status.idle": "2023-05-22T14:29:20.245247Z",
     "shell.execute_reply": "2023-05-22T14:29:20.244209Z",
     "shell.execute_reply.started": "2023-05-22T14:29:19.851515Z"
    },
    "tags": []
   },
   "outputs": [
    {
     "name": "stdout",
     "output_type": "stream",
     "text": [
      "+-------------------+------+----------+--------------+-------------------------------------+\n",
      "|timestamp          |pid   |parent_pid|human_readable|sigma                                |\n",
      "+-------------------+------+----------+--------------+-------------------------------------+\n",
      "|2022-12-30 00:00:01|pid100|          |[pf]          |{rule1 -> {pf -> true, cf -> false}} |\n",
      "|2022-12-30 00:00:02|pid200|          |[]            |{rule1 -> {pf -> false, cf -> false}}|\n",
      "|2022-12-30 00:00:03|pid300|pid100    |[]            |{rule1 -> {pf -> false, cf -> false}}|\n",
      "|2022-12-30 00:00:04|pid400|pid200    |[cf]          |{rule1 -> {pf -> false, cf -> true}} |\n",
      "|2022-12-30 00:00:05|pid500|          |[pf]          |{rule1 -> {pf -> true, cf -> false}} |\n",
      "|2022-12-30 00:00:06|pid600|pid500    |[cf]          |{rule1 -> {pf -> false, cf -> true}} |\n",
      "|2022-12-30 00:00:07|pid700|pid600    |[cf]          |{rule1 -> {pf -> false, cf -> true}} |\n",
      "+-------------------+------+----------+--------------+-------------------------------------+\n",
      "\n",
      "+-------------------+------+----------+--------------+-------------------------------------+\n",
      "|timestamp          |pid   |parent_pid|human_readable|sigma                                |\n",
      "+-------------------+------+----------+--------------+-------------------------------------+\n",
      "|2022-12-30 00:00:01|pid100|          |[pf]          |{rule1 -> {pf -> true, cf -> false}} |\n",
      "|2022-12-30 00:00:02|pid200|          |[]            |{rule1 -> {pf -> false, cf -> false}}|\n",
      "|2022-12-30 00:00:03|pid300|pid100    |[pf]          |{rule1 -> {pf -> true, cf -> false}} |\n",
      "|2022-12-30 00:00:04|pid400|pid200    |[cf]          |{rule1 -> {pf -> false, cf -> true}} |\n",
      "|2022-12-30 00:00:05|pid500|          |[pf]          |{rule1 -> {pf -> true, cf -> false}} |\n",
      "|2022-12-30 00:00:06|pid600|pid500    |[pf, cf]      |{rule1 -> {pf -> true, cf -> true}}  |\n",
      "|2022-12-30 00:00:07|pid700|pid600    |[cf]          |{rule1 -> {pf -> false, cf -> true}} |\n",
      "+-------------------+------+----------+--------------+-------------------------------------+\n",
      "\n"
     ]
    }
   ],
   "source": [
    "spec = \"\"\"\n",
    "    rules:\n",
    "        - rulename: rule1\n",
    "          action: parent\n",
    "          child: pid\n",
    "          parent: parent_pid\n",
    "          tags:\n",
    "            - name: pf\n",
    "    \"\"\"\n",
    "\n",
    "df_input = spark.sql(\"\"\"\n",
    "    select\n",
    "        *\n",
    "    from\n",
    "    values\n",
    "    (TIMESTAMP '2022-12-30 00:00:01', 'host1', 'pid100', '', map('rule1', map('pf', true, 'cf', false))),\n",
    "    (TIMESTAMP '2022-12-30 00:00:02', 'host1', 'pid200', '', map('rule1', map('pf', false, 'cf', false))),\n",
    "    (TIMESTAMP '2022-12-30 00:00:03', 'host1', 'pid300', 'pid100', map('rule1', map('pf', false, 'cf', false))),\n",
    "    (TIMESTAMP '2022-12-30 00:00:04', 'host1', 'pid400', 'pid200', map('rule1', map('pf', false, 'cf', true))),\n",
    "    (TIMESTAMP '2022-12-30 00:00:05', 'host1', 'pid500', '', map('rule1', map('pf', true, 'cf', false))),\n",
    "    (TIMESTAMP '2022-12-30 00:00:06', 'host1', 'pid600', 'pid500', map('rule1', map('pf', false, 'cf', true))),\n",
    "    (TIMESTAMP '2022-12-30 00:00:07', 'host1', 'pid700', 'pid600', map('rule1', map('pf', false, 'cf', true)))\n",
    "    t(timestamp, host_id, pid, parent_pid, sigma)\n",
    "    \"\"\")\n",
    "\n",
    "print_df(df_input)\n",
    "jdf = flux_stateful_function(df_input._jdf, \"host_id\", bloom_capacity, spec, True)\n",
    "df_output = DataFrame(jdf, spark)\n",
    "print_df(df_output)"
   ]
  },
  {
   "cell_type": "code",
   "execution_count": 31,
   "id": "d1fb1646-e1cd-4537-956a-25d74d8c1ee4",
   "metadata": {
    "execution": {
     "iopub.execute_input": "2023-05-22T14:29:20.246625Z",
     "iopub.status.busy": "2023-05-22T14:29:20.246284Z",
     "iopub.status.idle": "2023-05-22T14:29:20.574387Z",
     "shell.execute_reply": "2023-05-22T14:29:20.573153Z",
     "shell.execute_reply.started": "2023-05-22T14:29:20.246601Z"
    },
    "tags": []
   },
   "outputs": [
    {
     "name": "stdout",
     "output_type": "stream",
     "text": [
      "+-------------------+------+----------+--------------+-------------------------------------+\n",
      "|timestamp          |pid   |parent_pid|human_readable|sigma                                |\n",
      "+-------------------+------+----------+--------------+-------------------------------------+\n",
      "|2022-12-30 00:00:05|pid500|          |[pf]          |{rule1 -> {pf -> true, cf -> false}} |\n",
      "|2022-12-30 00:00:06|pid600|pid500    |[]            |{rule1 -> {pf -> false, cf -> false}}|\n",
      "|2022-12-30 00:00:07|pid700|pid600    |[cf]          |{rule1 -> {pf -> false, cf -> true}} |\n",
      "+-------------------+------+----------+--------------+-------------------------------------+\n",
      "\n",
      "+-------------------+------+----------+--------------+------------------------------------+\n",
      "|timestamp          |pid   |parent_pid|human_readable|sigma                               |\n",
      "+-------------------+------+----------+--------------+------------------------------------+\n",
      "|2022-12-30 00:00:05|pid500|          |[pf]          |{rule1 -> {pf -> true, cf -> false}}|\n",
      "|2022-12-30 00:00:06|pid600|pid500    |[pf]          |{rule1 -> {pf -> true, cf -> false}}|\n",
      "|2022-12-30 00:00:07|pid700|pid600    |[pf, cf]      |{rule1 -> {pf -> true, cf -> true}} |\n",
      "+-------------------+------+----------+--------------+------------------------------------+\n",
      "\n"
     ]
    }
   ],
   "source": [
    "spec = \"\"\"\n",
    "    rules:\n",
    "        - rulename: rule1\n",
    "          action: ancestor\n",
    "          child: pid\n",
    "          parent: parent_pid\n",
    "          tags:\n",
    "            - name: pf\n",
    "    \"\"\"\n",
    "\n",
    "df_input = spark.sql(\"\"\"\n",
    "    select\n",
    "        *\n",
    "    from\n",
    "    values\n",
    "    (TIMESTAMP '2022-12-30 00:00:05', 'host1', 'pid500', '', map('rule1', map('pf', true, 'cf', false))),\n",
    "    (TIMESTAMP '2022-12-30 00:00:06', 'host1', 'pid600', 'pid500', map('rule1', map('pf', false, 'cf', false))),\n",
    "    (TIMESTAMP '2022-12-30 00:00:07', 'host1', 'pid700', 'pid600', map('rule1', map('pf', false, 'cf', true)))\n",
    "    t(timestamp, host_id, pid, parent_pid, sigma)\n",
    "    \"\"\")\n",
    "\n",
    "print_df(df_input)\n",
    "jdf = flux_stateful_function(df_input._jdf, \"host_id\", bloom_capacity, spec, True)\n",
    "df_output = DataFrame(jdf, spark)\n",
    "print_df(df_output)"
   ]
  },
  {
   "cell_type": "code",
   "execution_count": null,
   "id": "a695317d-ca10-4b19-9adb-5d72028d43cb",
   "metadata": {},
   "outputs": [],
   "source": []
  },
  {
   "cell_type": "code",
   "execution_count": null,
   "id": "22253acf-9ed5-4820-8cd1-82555ed6cbac",
   "metadata": {},
   "outputs": [],
   "source": []
  }
 ],
 "metadata": {
  "kernelspec": {
   "display_name": "Python 3 (ipykernel)",
   "language": "python",
   "name": "python3"
  },
  "language_info": {
   "codemirror_mode": {
    "name": "ipython",
    "version": 3
   },
   "file_extension": ".py",
   "mimetype": "text/x-python",
   "name": "python",
   "nbconvert_exporter": "python",
   "pygments_lexer": "ipython3",
   "version": "3.10.10"
  }
 },
 "nbformat": 4,
 "nbformat_minor": 5
}
